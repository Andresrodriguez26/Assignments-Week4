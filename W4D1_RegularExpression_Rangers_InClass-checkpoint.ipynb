{
 "cells": [
  {
   "cell_type": "markdown",
   "metadata": {},
   "source": [
    "# Regular Expressions"
   ]
  },
  {
   "cell_type": "markdown",
   "metadata": {},
   "source": [
    "# Tasks today:\n",
    "1) <b>Importing</b> <br>\n",
    "2) <b>Using Regular Expressions</b> <br>\n",
    " &nbsp;&nbsp;&nbsp;&nbsp; a) re.compile() <br>\n",
    " &nbsp;&nbsp;&nbsp;&nbsp; b) re.match() <br>\n",
    " &nbsp;&nbsp;&nbsp;&nbsp; c) re.findall() <br>\n",
    " &nbsp;&nbsp;&nbsp;&nbsp; d) re.search() <br>\n",
    "3) <b>Sets</b> <br>\n",
    " &nbsp;&nbsp;&nbsp;&nbsp; a) Integer Ranges <br>\n",
    " &nbsp;&nbsp;&nbsp;&nbsp; b) Character Ranges <br>\n",
    "4) <b>Counting Occurences</b> <br>\n",
    " &nbsp;&nbsp;&nbsp;&nbsp; a) {x} <br>\n",
    " &nbsp;&nbsp;&nbsp;&nbsp; b) {, x} <br>\n",
    " &nbsp;&nbsp;&nbsp;&nbsp; c) {?} <br>\n",
    " &nbsp;&nbsp;&nbsp;&nbsp; d) {*} <br>\n",
    " &nbsp;&nbsp;&nbsp;&nbsp; e) {+} <br>\n",
    "5) <b>In-Class Exercise #1</b> <br>\n",
    "6) <b>Escaping Characters</b> <br>\n",
    "7) <b>Grouping</b> <br>\n",
    "8) <b>In-Class Exercise #2</b> <br>\n",
    "9) <b>Opening a File</b> <br>\n",
    " &nbsp;&nbsp;&nbsp;&nbsp; a) open() <br>\n",
    " &nbsp;&nbsp;&nbsp;&nbsp; b) with open() <br>\n",
    " &nbsp;&nbsp;&nbsp;&nbsp; c) re.match() <br>\n",
    " &nbsp;&nbsp;&nbsp;&nbsp; d) re.search() <br>\n",
    " &nbsp;&nbsp;&nbsp;&nbsp; e) Store the String in a Variable <br>\n",
    "10) <b>Regex Project</b> <br>"
   ]
  },
  {
   "cell_type": "markdown",
   "metadata": {},
   "source": [
    "### Importing <br>\n",
    "<p>Regular Expressions are universal throughout most programming languages... They are generally imported through the module 're'.</p>"
   ]
  },
  {
   "cell_type": "code",
   "execution_count": 9,
   "metadata": {},
   "outputs": [],
   "source": [
    "# import re\n",
    "import re"
   ]
  },
  {
   "cell_type": "markdown",
   "metadata": {},
   "source": [
    "### Using Regular Expressions <br>\n",
    "<p>Regular expressions give us the ability to search for patterns within text, strings, files, etc. They serve several uses, such as; security measures, searching, filtering, pattern recognition, and more...</p>"
   ]
  },
  {
   "cell_type": "markdown",
   "metadata": {},
   "source": [
    "##### re.compile()"
   ]
  },
  {
   "cell_type": "code",
   "execution_count": 10,
   "metadata": {},
   "outputs": [],
   "source": [
    "# determine the string to be used in a regular expression\n",
    "pattern = re.compile(\"abcd\")"
   ]
  },
  {
   "cell_type": "markdown",
   "metadata": {},
   "source": [
    "##### re.match()"
   ]
  },
  {
   "cell_type": "code",
   "execution_count": 11,
   "metadata": {},
   "outputs": [
    {
     "name": "stdout",
     "output_type": "stream",
     "text": [
      "<re.Match object; span=(0, 4), match='abcd'>\n",
      "(0, 4)\n",
      "None\n"
     ]
    }
   ],
   "source": [
    "# return the very first match, if it doesnt immediately find a match it will stop\n",
    "match = pattern.match(\"abcd123\")\n",
    "print(match)\n",
    "\n",
    "# accesing the span of the match\n",
    "# the starting and stopping index of the match in the match string\n",
    "print(match.span())\n",
    "\n",
    "# if match doesnt find a match it will immediately stop searching \n",
    "match2 = pattern.match(\"123abcd\")\n",
    "print(match2)"
   ]
  },
  {
   "cell_type": "code",
   "execution_count": null,
   "metadata": {},
   "outputs": [],
   "source": [
    "# my_list = [\"123\", \"abcd\", \"abdc\", \"abc\"]\n",
    "\n",
    "# if my_list[0] != \"abcd\":\n",
    "#"
   ]
  },
  {
   "cell_type": "markdown",
   "metadata": {},
   "source": [
    "##### re.findall()"
   ]
  },
  {
   "cell_type": "code",
   "execution_count": 12,
   "metadata": {},
   "outputs": [
    {
     "name": "stdout",
     "output_type": "stream",
     "text": [
      "['abcd', 'abcd', 'abcd']\n",
      "Help on function findall in module re:\n",
      "\n",
      "findall(pattern, string, flags=0)\n",
      "    Return a list of all non-overlapping matches in the string.\n",
      "    \n",
      "    If one or more capturing groups are present in the pattern, return\n",
      "    a list of groups; this will be a list of tuples if the pattern\n",
      "    has more than one group.\n",
      "    \n",
      "    Empty matches are included in the result.\n",
      "\n"
     ]
    }
   ],
   "source": [
    "pattern = re.compile(\"abcd\")\n",
    "finders = pattern.findall(\"123abcd abcd123 abcabc acb acab 1abcd23\")\n",
    "\n",
    "print(finders)\n",
    "help(re.findall)"
   ]
  },
  {
   "cell_type": "markdown",
   "metadata": {},
   "source": [
    "##### re.search()"
   ]
  },
  {
   "cell_type": "code",
   "execution_count": 14,
   "metadata": {},
   "outputs": [
    {
     "name": "stdout",
     "output_type": "stream",
     "text": [
      "Help on function search in module re:\n",
      "\n",
      "search(pattern, string, flags=0)\n",
      "    Scan through string looking for a match to the pattern, returning\n",
      "    a Match object, or None if no match was found.\n",
      "\n",
      "<re.Match object; span=(17, 21), match='abcd'>\n"
     ]
    }
   ],
   "source": [
    "help(re.search)\n",
    "pattern = re.compile(\"abcd\")\n",
    "\n",
    "random_string = \"123 123 1234 324 abcd abcd\"\n",
    "\n",
    "search_result = pattern.search(random_string)\n",
    "\n",
    "print(search_result)"
   ]
  },
  {
   "cell_type": "markdown",
   "metadata": {},
   "source": [
    "### Sets <br>\n",
    "<p>The following cells will allow you to use regular expressions to search for certain values within a range such as numbers 1 through 4.</p>"
   ]
  },
  {
   "cell_type": "markdown",
   "metadata": {},
   "source": [
    "##### [a-z] or [A-Z] - any lowercase/uppercase letters from a to z<br/>[^2] - anything that's not 2"
   ]
  },
  {
   "cell_type": "markdown",
   "metadata": {},
   "source": [
    "##### Integer Ranges"
   ]
  },
  {
   "cell_type": "code",
   "execution_count": 17,
   "metadata": {},
   "outputs": [
    {
     "name": "stdout",
     "output_type": "stream",
     "text": [
      "<re.Match object; span=(0, 3), match='673'>\n",
      "<re.Match object; span=(3, 6), match='582'>\n"
     ]
    }
   ],
   "source": [
    "pattern_int = re.compile(\"[0-7][7-9][0-3]\")\n",
    "random_numbers = pattern_int.search(\"67383\")\n",
    "print(random_numbers)\n",
    "\n",
    "random_numbers2 = pattern_int.search(\"652582\")\n",
    "print(random_numbers2)"
   ]
  },
  {
   "cell_type": "markdown",
   "metadata": {},
   "source": [
    "##### Character Ranges"
   ]
  },
  {
   "cell_type": "code",
   "execution_count": 21,
   "metadata": {},
   "outputs": [
    {
     "name": "stdout",
     "output_type": "stream",
     "text": [
      "['Alex', 'Ryan', 'Benj', 'Juan']\n"
     ]
    }
   ],
   "source": [
    "char_pattern = re.compile(\"[A-Z][a-z][a-z][a-z]\")\n",
    "found = char_pattern.findall(\"there are a few people in this class with four letter names. One of them is Alex, another is Ryan, another is Benj, and also Juan\")\n",
    "print(found)"
   ]
  },
  {
   "cell_type": "markdown",
   "metadata": {},
   "source": [
    "### Counting Occurences"
   ]
  },
  {
   "cell_type": "markdown",
   "metadata": {},
   "source": [
    "##### {x} - something that occurs {num_of_times}"
   ]
  },
  {
   "cell_type": "code",
   "execution_count": 22,
   "metadata": {},
   "outputs": [
    {
     "name": "stdout",
     "output_type": "stream",
     "text": [
      "['BB8', 'PP4']\n"
     ]
    }
   ],
   "source": [
    "char_pattern_count = re.compile(\"[A-Z]{2}[0-9]\")\n",
    "found_count = char_pattern_count.findall(\"BB8 is pretty cool but i have always prefer R2D2 and C3P0 if i had a droid i would name it, PP4\")\n",
    "print(found_count)"
   ]
  },
  {
   "cell_type": "markdown",
   "metadata": {},
   "source": [
    "##### {x, x} - something that occurs between x and x times"
   ]
  },
  {
   "cell_type": "code",
   "execution_count": 28,
   "metadata": {},
   "outputs": [
    {
     "name": "stdout",
     "output_type": "stream",
     "text": [
      "['mm', 'mmm', 'mmmm', 'mmmmm', 'mmmmmmmm', 'mm', 'mmmmm', 'mmmm', 'mm', 'mm']\n"
     ]
    }
   ],
   "source": [
    "random_pattern = re.compile(\"m{1,5}m{1,3}\")\n",
    "random_statement = random_pattern.findall(\"This is an example of trying to find some ms. We need a lot of mms and mmms and mmmms and mmmmms and mmmmmmmmmmsmmmmmsmmmmsmmsmmsmsms\")\n",
    "print(random_statement)"
   ]
  },
  {
   "cell_type": "code",
   "execution_count": 29,
   "metadata": {},
   "outputs": [
    {
     "name": "stdout",
     "output_type": "stream",
     "text": [
      "['1435', '5314', '3142', '135']\n"
     ]
    }
   ],
   "source": [
    "num_pattern = re.compile(\"[0-5]{1,4}\")\n",
    "num_string = \"14356531497631429713597\"\n",
    "num_match = num_pattern.findall(num_string)\n",
    "print(num_match)"
   ]
  },
  {
   "cell_type": "markdown",
   "metadata": {},
   "source": [
    "##### ? - something that occurs 0 or 1 time"
   ]
  },
  {
   "cell_type": "code",
   "execution_count": 30,
   "metadata": {},
   "outputs": [
    {
     "name": "stdout",
     "output_type": "stream",
     "text": [
      "['Hello', 'name', 'ryan', 'like', 'part', 'Andre', 'here']\n"
     ]
    }
   ],
   "source": [
    "# optional \n",
    "pattern = re.compile(\"[A-Z]?[a-z]{4}\")\n",
    "found_pat = pattern.findall(\"Hello my name is ryan and i like to party. Also Andres is here\")\n",
    "print(found_pat)"
   ]
  },
  {
   "cell_type": "markdown",
   "metadata": {},
   "source": [
    "##### * - something that occurs at least 0 times"
   ]
  },
  {
   "cell_type": "code",
   "execution_count": 32,
   "metadata": {},
   "outputs": [
    {
     "name": "stdout",
     "output_type": "stream",
     "text": [
      "['Hello', 'I', 'Kenobi', 'Army', 'Republic']\n"
     ]
    }
   ],
   "source": [
    "# .* ---> wild card grab ANY character happening 0 to many times\n",
    "pattern = re.compile(\"[A-Z][a-z]*\")\n",
    "\n",
    "found_pat = pattern.findall(\"Hello there, I am general Kenobi, leader of the Army of the Republic\")\n",
    "\n",
    "print(found_pat)"
   ]
  },
  {
   "cell_type": "code",
   "execution_count": 66,
   "metadata": {},
   "outputs": [
    {
     "name": "stdout",
     "output_type": "stream",
     "text": [
      "['6308528209', '6304399808', '6309631821']\n"
     ]
    }
   ],
   "source": [
    "pattern = re.compile(\"[0-9][0-9]*\")\n",
    "\n",
    "found_pat = pattern.findall(\"This is a list of phone numbers: 6308528209 6304399808 6309631821\")\n",
    "\n",
    "print(found_pat)\n",
    "\n",
    "# this will also pull back any non number spaces or non "
   ]
  },
  {
   "cell_type": "markdown",
   "metadata": {},
   "source": [
    "##### + - something that occurs at least once"
   ]
  },
  {
   "cell_type": "code",
   "execution_count": 38,
   "metadata": {},
   "outputs": [
    {
     "name": "stdout",
     "output_type": "stream",
     "text": [
      "['6308528209', '6304399808', '6309631821', '35', '4', '345']\n"
     ]
    }
   ],
   "source": [
    "phone_number = re.compile(\"[0-9]+\")\n",
    "found_pat = phone_number.findall(\"This is a list of phone numbers: 6308528209 6304399808 6309631821 35 4 345\")\n",
    "print(found_pat)"
   ]
  },
  {
   "cell_type": "code",
   "execution_count": 39,
   "metadata": {},
   "outputs": [
    {
     "name": "stdout",
     "output_type": "stream",
     "text": [
      "['MMMs', 'Ms', 'Ms', 'MMMs', 'MMMs', 'MMMMs']\n"
     ]
    }
   ],
   "source": [
    "pattern = re.compile(\"M+s\")\n",
    "\n",
    "found_m = pattern.findall(\"MMMs naMe is Ms SMith. These are Ms MMMs MMMs MMMMs MMMr Me Mq MMt s\")\n",
    "print(found_m)"
   ]
  },
  {
   "cell_type": "markdown",
   "metadata": {},
   "source": [
    "##### In-class exercise 1: \n",
    "\n",
    "Use a regular expression to find every number in the given string"
   ]
  },
  {
   "cell_type": "code",
   "execution_count": 77,
   "metadata": {},
   "outputs": [
    {
     "name": "stdout",
     "output_type": "stream",
     "text": [
      "['R2D2', 'C3P0', 'BB8']\n"
     ]
    }
   ],
   "source": [
    "# use a regular expression to find the driod names using a .findall\n",
    "droids = \"Here are some droid names: R2D2 is pretty cool and C3P0 is a nerd. BB8 is fine and there are other ones too that i cant think of.\"\n",
    "\n",
    "pattern = re.compile(\"[A-Z][0-9]*[A-Z][0-9]\")\n",
    "found_droid = pattern.findall(\"Here are some droid names: R2D2 is pretty cool and C3P0 is a nerd. BB8 is fine and there are other ones too that i cant think of.\")\n",
    "\n",
    "print(found_droid)"
   ]
  },
  {
   "cell_type": "markdown",
   "metadata": {},
   "source": [
    "### Escaping Characters"
   ]
  },
  {
   "cell_type": "markdown",
   "metadata": {},
   "source": [
    "##### \\w - look for any Unicode character<br/>\\W - look for anything that isnt a Unicode character\n",
    "\n",
    "[History on Unicode](http://unicode.org/standard/WhatIsUnicode.html)\n",
    "\n",
    "[More on Unicode Characters](https://en.wikipedia.org/wiki/List_of_Unicode_characters)"
   ]
  },
  {
   "cell_type": "code",
   "execution_count": 81,
   "metadata": {},
   "outputs": [
    {
     "name": "stdout",
     "output_type": "stream",
     "text": [
      "['This', 'is', 'a', 'sentence', 'Whit', 'an', 'exclamation', 'point', 'at', 'the', 'end', 'Also', 'dont', 'forget', 'to', 'floss', 'Also', 'some', 'numbers', '5', '68', '493', '49']\n",
      "\n",
      "\n",
      "[' ', ' ', ' ', '. ', ' ', ' ', ' ', ' ', ' ', ' ', '! ', ', ', ' ', ' ', ' ', '. ', ' ', ' ', ' ', ' ', ' ', ' ']\n"
     ]
    }
   ],
   "source": [
    "pattern = re.compile(\"[\\w]+\")\n",
    "pattern2 = re.compile(\"[\\W]+\")\n",
    "unicode_string = \"This is a sentence. Whit an exclamation point at the end! Also, dont forget to floss. Also some numbers 5 68 493 49\"\n",
    "\n",
    "found1 = pattern.findall(unicode_string)\n",
    "print(found1)\n",
    "\n",
    "print(\"\\n\")\n",
    "\n",
    "found2 = pattern2.findall(unicode_string)\n",
    "print(found2)"
   ]
  },
  {
   "cell_type": "markdown",
   "metadata": {},
   "source": [
    "##### \\d - look for any digit 0-9<br/>\\D - look for anything that isnt a digit"
   ]
  },
  {
   "cell_type": "code",
   "execution_count": 89,
   "metadata": {},
   "outputs": [
    {
     "name": "stdout",
     "output_type": "stream",
     "text": [
      "['30th', '31st', '3rd']\n"
     ]
    }
   ],
   "source": [
    "# similar to [0-9]\n",
    "\n",
    "pattern_nums = re.compile(\"\\d{1,2}[a-z]{1,2}\")\n",
    "found_date = pattern_nums.findall(\"Today is the 30th tomorrow will the 31st and in five days it will. be the 3rd of November\")\n",
    "\n",
    "print(found_date)"
   ]
  },
  {
   "cell_type": "code",
   "execution_count": 86,
   "metadata": {},
   "outputs": [
    {
     "name": "stdout",
     "output_type": "stream",
     "text": [
      "['Today is the ', 'th tomorrow will the ', 'st and in ', ' days it will. be the ', 'rd of November']\n"
     ]
    }
   ],
   "source": [
    "pattern_nonnums = re.compile(\"\\D+\")\n",
    "found_nonnums = pattern_nonnums.findall(\"Today is the 30th tomorrow will the 31st and in 5 days it will. be the 3rd of November\")\n",
    "\n",
    "print(found_nonnums)"
   ]
  },
  {
   "cell_type": "markdown",
   "metadata": {},
   "source": [
    "##### \\s - look for any white space<br/>\\S - look for anything that isnt whitespace"
   ]
  },
  {
   "cell_type": "code",
   "execution_count": 95,
   "metadata": {},
   "outputs": [
    {
     "name": "stdout",
     "output_type": "stream",
     "text": [
      "['          ', '       ', '     ', '       ', ' ']\n"
     ]
    }
   ],
   "source": [
    "space = re.compile(\"\\s+\")\n",
    "no_space = re.compile(\"\\S+\")\n",
    "\n",
    "found_space = space.findall(\"Are          you       afraid     of       the dark?\")\n",
    "print(found_space)"
   ]
  },
  {
   "cell_type": "code",
   "execution_count": 94,
   "metadata": {},
   "outputs": [
    {
     "name": "stdout",
     "output_type": "stream",
     "text": [
      "['Are', 'you', 'afraid', 'of', 'the', 'dark?']\n"
     ]
    }
   ],
   "source": [
    "no_found_space = no_space.findall(\"Are          you       afraid     of       the dark?\")\n",
    "print(no_found_space)"
   ]
  },
  {
   "cell_type": "markdown",
   "metadata": {},
   "source": [
    "##### \\b - look for boundaries or edges of a word<br/>\\B - look for anything that isnt a boundary"
   ]
  },
  {
   "cell_type": "code",
   "execution_count": 108,
   "metadata": {},
   "outputs": [
    {
     "name": "stdout",
     "output_type": "stream",
     "text": [
      "['TheCodingTemple']\n",
      "[]\n"
     ]
    }
   ],
   "source": [
    "pattern_bound = re.compile(r\"\\bTheCodingTemple\\b\")\n",
    "\n",
    "\n",
    "found_bound = pattern_bound.findall(\"TheCodingTemple\")\n",
    "print(found_bound)\n",
    "\n",
    "pattern_no_bound = re.compile(\"\\BTheCodingTemple\\B\")\n",
    "no_bound = pattern_no_bound.findall(\"TheCodingTemple\")\n",
    "\n",
    "print(no_bound)"
   ]
  },
  {
   "cell_type": "markdown",
   "metadata": {},
   "source": [
    "### Grouping"
   ]
  },
  {
   "cell_type": "code",
   "execution_count": 114,
   "metadata": {},
   "outputs": [
    {
     "name": "stdout",
     "output_type": "stream",
     "text": [
      "[('Max', 'Smith'), ('Sam', 'Darnold'), ('LeBron', 'James'), ('Michael', 'Jordan'), ('Kevin', 'Durant'), ('Patrick', 'McCormick')]\n",
      "Max Smith\n",
      "Not a valid name\n",
      "Sam Darnold\n",
      "LeBron James\n",
      "Michael Jordan\n",
      "Kevin Durant\n",
      "Patrick McCormick\n"
     ]
    }
   ],
   "source": [
    "my_string = \"Max Smith, aaron rodgers, Sam Darnold, LeBron James, Michael Jordan, Kevin Durant, Patrick McCormick\"\n",
    "\n",
    "# create our groups of in our pattern \n",
    "pattern_name = re.compile(\"([A-Z][\\w]+) ([A-Z][\\w]+)\")\n",
    "\n",
    "found_names = pattern_name.findall(my_string)\n",
    "print(found_names)\n",
    "\n",
    "for name in my_string.split(\",\"):\n",
    "    match = pattern_name.search(name)\n",
    "    \n",
    "    if match:\n",
    "        print(match.group(1), match.group(2))\n",
    "        \n",
    "    else:\n",
    "        print(\"Not a valid name\")"
   ]
  },
  {
   "cell_type": "markdown",
   "metadata": {},
   "source": [
    "##### In-class Exercise 2:\n",
    "\n",
    "Write a function using regular expressions to find the domain name in the given email addresses (and return None for the invalid email addresses)<br><b>HINT: Use '|' for either or</b>"
   ]
  },
  {
   "cell_type": "code",
   "execution_count": 134,
   "metadata": {},
   "outputs": [
    {
     "name": "stdout",
     "output_type": "stream",
     "text": [
      "[('pocohontas1776', 'gmail', '.com')]\n",
      "None\n",
      "pocohontas1776@gmail.com\n",
      "None\n",
      "yourfavoriteband@g6.org\n",
      "None\n"
     ]
    }
   ],
   "source": [
    "my_emails = [\"jordanw@codingtemple.orgcom\", \"pocohontas1776@gmail.com\", \"helloworld@aol..com\",\n",
    "             \"yourfavoriteband@g6.org\", \"@codingtemple.com\"]\n",
    "\n",
    "# You can also use the $ at the end of your compile expression -- this stops the search\n",
    "\n",
    "#.com OR .org => com|org\n",
    "\n",
    "#Expected output:\n",
    "#None\n",
    "#pocohontas1776@gmail.com\n",
    "#None\n",
    "#yourfavoriteband@g6.org\n",
    "#None\n",
    "\n",
    "#                             .group(1)   .group(2)  .group(3)\n",
    "email_pattern = re.compile(\"([a-z]+[0-9]*)@([\\w]+)(.com|.org)$\")\n",
    "found_email = email_pattern.findall(my_emails[1])\n",
    "print(found_email)\n",
    "\n",
    "for email in my_emails:\n",
    "    if email_pattern.match(email):\n",
    "        print(email)\n",
    "    else:\n",
    "        print(None)\n",
    "        "
   ]
  },
  {
   "cell_type": "markdown",
   "metadata": {},
   "source": [
    "### Opening a File <br>\n",
    "<p>Python gives us a couple ways to import files, below are the two used most often.</p>"
   ]
  },
  {
   "cell_type": "markdown",
   "metadata": {},
   "source": [
    "##### open()"
   ]
  },
  {
   "cell_type": "code",
   "execution_count": 157,
   "metadata": {},
   "outputs": [
    {
     "name": "stdout",
     "output_type": "stream",
     "text": [
      "Hawkins, Derek\tderek@codingtemple.com\t(555) 555-5555\tTeacher, Coding Temple\t@derekhawkins\n",
      "Zhai, Mo\tmozhai@codingtemple.com\t(555) 555-5554\tTeacher, Coding Temple\n",
      "Johnson, Joe\tjoejohnson@codingtemple.com\t\tJohson, Joe\n",
      "Osterberg, Sven-Erik\tgovernor@norrbotten.co.se\t\tGovernor, Norrbotten\t@sverik\n",
      ", Tim\ttim@killerrabbit.com\t\tEnchanter, Killer Rabbit Cave\n",
      "Butz, Ryan\tryanb@codingtemple.com\t(555) 555-5543\tCEO, Coding Temple\t@ryanbutz\n",
      "Doctor, The\tdoctor+companion@tardis.co.uk\t\tTime Lord, Gallifrey\n",
      "Exampleson, Example\tme@example.com\t555-555-5552\tExample, Example Co.\t@example\n",
      "Pael, Ripal\tripalp@codingtemple.com\t(555) 555-5553\tTeacher, Coding Temple\t@ripalp\n",
      "Vader, Darth\tdarth-vader@empire.gov\t(555) 555-4444\tSith Lord, Galactic Empire\t@darthvader\n",
      "Fernandez de la Vega Sanz, Maria Teresa\tmtfvs@spain.gov\t\tFirst Deputy Prime Minister, Spanish Gov\n",
      "\n",
      "<class 'str'>\n"
     ]
    }
   ],
   "source": [
    "f = open(\"names.txt\")\n",
    "\n",
    "data = f.read()\n",
    "\n",
    "print(data)\n",
    "\n",
    "f.close()\n",
    "\n",
    "print(type(data))"
   ]
  },
  {
   "cell_type": "markdown",
   "metadata": {},
   "source": [
    "##### with open()"
   ]
  },
  {
   "cell_type": "code",
   "execution_count": 154,
   "metadata": {},
   "outputs": [
    {
     "name": "stdout",
     "output_type": "stream",
     "text": [
      "Hawkins, Derek\tderek@codingtemple.com\t(555) 555-5555\tTeacher, Coding Temple\t@derekhawkins\n",
      "\n",
      "Zhai, Mo\tmozhai@codingtemple.com\t(555) 555-5554\tTeacher, Coding Temple\n",
      "\n",
      "Johnson, Joe\tjoejohnson@codingtemple.com\t\tJohson, Joe\n",
      "\n",
      "Osterberg, Sven-Erik\tgovernor@norrbotten.co.se\t\tGovernor, Norrbotten\t@sverik\n",
      "\n",
      ", Tim\ttim@killerrabbit.com\t\tEnchanter, Killer Rabbit Cave\n",
      "\n",
      "Butz, Ryan\tryanb@codingtemple.com\t(555) 555-5543\tCEO, Coding Temple\t@ryanbutz\n",
      "\n",
      "Doctor, The\tdoctor+companion@tardis.co.uk\t\tTime Lord, Gallifrey\n",
      "\n",
      "Exampleson, Example\tme@example.com\t555-555-5552\tExample, Example Co.\t@example\n",
      "\n",
      "Pael, Ripal\tripalp@codingtemple.com\t(555) 555-5553\tTeacher, Coding Temple\t@ripalp\n",
      "\n",
      "Vader, Darth\tdarth-vader@empire.gov\t(555) 555-4444\tSith Lord, Galactic Empire\t@darthvader\n",
      "\n",
      "Fernandez de la Vega Sanz, Maria Teresa\tmtfvs@spain.gov\t\tFirst Deputy Prime Minister, Spanish Gov\n",
      "\n"
     ]
    }
   ],
   "source": [
    "# use for this evenings homework\n",
    "with open(\"names.txt\") as f:\n",
    "    data = f.readlines()\n",
    "    for line in data:\n",
    "        print(line)"
   ]
  },
  {
   "cell_type": "markdown",
   "metadata": {},
   "source": [
    "##### re.match()"
   ]
  },
  {
   "cell_type": "code",
   "execution_count": 158,
   "metadata": {},
   "outputs": [
    {
     "name": "stdout",
     "output_type": "stream",
     "text": [
      "Hawkins, Derek\tderek@codingtemple.com\t(555) 555-5555\tTeacher, Coding Temple\t@derekhawkins\n",
      "Zhai, Mo\tmozhai@codingtemple.com\t(555) 555-5554\tTeacher, Coding Temple\n",
      "Johnson, Joe\tjoejohnson@codingtemple.com\t\tJohson, Joe\n",
      "Osterberg, Sven-Erik\tgovernor@norrbotten.co.se\t\tGovernor, Norrbotten\t@sverik\n",
      ", Tim\ttim@killerrabbit.com\t\tEnchanter, Killer Rabbit Cave\n",
      "Butz, Ryan\tryanb@codingtemple.com\t(555) 555-5543\tCEO, Coding Temple\t@ryanbutz\n",
      "Doctor, The\tdoctor+companion@tardis.co.uk\t\tTime Lord, Gallifrey\n",
      "Exampleson, Example\tme@example.com\t555-555-5552\tExample, Example Co.\t@example\n",
      "Pael, Ripal\tripalp@codingtemple.com\t(555) 555-5553\tTeacher, Coding Temple\t@ripalp\n",
      "Vader, Darth\tdarth-vader@empire.gov\t(555) 555-4444\tSith Lord, Galactic Empire\t@darthvader\n",
      "Fernandez de la Vega Sanz, Maria Teresa\tmtfvs@spain.gov\t\tFirst Deputy Prime Minister, Spanish Gov\n",
      "\n",
      "None\n",
      "None\n",
      "<re.Match object; span=(0, 14), match='Hawkins, Derek'>\n"
     ]
    }
   ],
   "source": [
    "\n",
    "print(data)\n",
    "print(re.match(\"Vader, Darth\", data))\n",
    "\n",
    "person_pattern = re.compile(\"Vader, Darth\")\n",
    "\n",
    "found_person = person_pattern.match(data)\n",
    "print(found_person)\n",
    "\n",
    "person_pattern2 = re.compile(\"Hawkins, Derek\")\n",
    "print(person_pattern2.match(data))\n"
   ]
  },
  {
   "cell_type": "markdown",
   "metadata": {},
   "source": [
    "##### re.search()"
   ]
  },
  {
   "cell_type": "code",
   "execution_count": null,
   "metadata": {},
   "outputs": [],
   "source": [
    "answer = input(\"What would you like to search for? \")\n",
    "\n",
    "found = re.findall(answer, data)\n",
    "\n",
    "if found:\n",
    "    print(f\"I found yoour data: {found}\")\n",
    "    \n",
    "else:\n",
    "    print(\"That person does not exists! \")"
   ]
  },
  {
   "cell_type": "markdown",
   "metadata": {},
   "source": [
    "##### Store the String to a Variable"
   ]
  },
  {
   "cell_type": "code",
   "execution_count": null,
   "metadata": {},
   "outputs": [],
   "source": []
  },
  {
   "cell_type": "markdown",
   "metadata": {},
   "source": [
    "### In-Class Exercise #3 <br>\n",
    "<p>Print each persons name and twitter handle, using groups, should look like:</p>\n",
    "<p>==============<br>\n",
    "   Full Name / Twitter<br>\n",
    "   ==============</p>\n",
    "Derek Hawkins / @derekhawkins\n",
    "\n",
    " Erik Sven-Osterberg / @sverik\n",
    "\n",
    " Ryan Butz / @ryanbutz\n",
    "\n",
    " Example Exampleson / @example\n",
    "\n",
    " Ripal Pael / @ripalp\n",
    "\n",
    " Darth Vader / @darthvader"
   ]
  },
  {
   "cell_type": "code",
   "execution_count": 2,
   "metadata": {
    "scrolled": true
   },
   "outputs": [
    {
     "name": "stdout",
     "output_type": "stream",
     "text": [
      "['Hawkins, Derek\\tderek@codingtemple.com\\t(555) 555-5555\\tTeacher, Coding Temple\\t@derekhawkins\\n', 'Zhai, Mo\\tmozhai@codingtemple.com\\t(555) 555-5554\\tTeacher, Coding Temple\\n', 'Johnson, Joe\\tjoejohnson@codingtemple.com\\t\\tJohson, Joe\\n', 'Osterberg, Sven-Erik\\tgovernor@norrbotten.co.se\\t\\tGovernor, Norrbotten\\t@sverik\\n', ', Tim\\ttim@killerrabbit.com\\t\\tEnchanter, Killer Rabbit Cave\\n', 'Butz, Ryan\\tryanb@codingtemple.com\\t(555) 555-5543\\tCEO, Coding Temple\\t@ryanbutz\\n', 'Doctor, The\\tdoctor+companion@tardis.co.uk\\t\\tTime Lord, Gallifrey\\n', 'Exampleson, Example\\tme@example.com\\t555-555-5552\\tExample, Example Co.\\t@example\\n', 'Pael, Ripal\\tripalp@codingtemple.com\\t(555) 555-5553\\tTeacher, Coding Temple\\t@ripalp\\n', 'Vader, Darth\\tdarth-vader@empire.gov\\t(555) 555-4444\\tSith Lord, Galactic Empire\\t@darthvader\\n', 'Fernandez de la Vega Sanz, Maria Teresa\\tmtfvs@spain.gov\\t\\tFirst Deputy Prime Minister, Spanish Gov\\n']\n",
      "\n",
      "\n",
      "==============\n",
      "Full Name / Twitter\n",
      "==============\n",
      "\n",
      "  Derek Hawkins/ @derekhawkins \n",
      "\n",
      "  Erik Sven-Osterberg/ @sverik \n",
      "\n",
      "  Ryan Butz/ @ryanbutz \n",
      "\n",
      "  Example Exampleson/ @example \n",
      "\n",
      "  Ripal Pael/ @ripalp \n",
      "\n",
      "  Darth Vader/ @darthvader \n"
     ]
    }
   ],
   "source": [
    "import re\n",
    "with open(\"names.txt\") as f:\n",
    "    data = f.readlines()\n",
    "    print(data)\n",
    "\n",
    "print(\"\\n\")\n",
    "print(\"==============\")\n",
    "print(\"Full Name / Twitter\")\n",
    "print(\"==============\")\n",
    "    \n",
    "twitter_pattern = re.compile(\"(^[A-Z][a-z]+), ([\\w -]*)([A-Z][a-z]+).*\\s(@[\\w]+$)\")\n",
    "\n",
    "for name in data:\n",
    "    match = twitter_pattern.search(name)\n",
    "\n",
    "    if match:\n",
    "        print(\"\\n \", f\"{match.group(3)} {match.group(2)}{match.group(1)}/ {match.group(4)} \")\n",
    "\n"
   ]
  },
  {
   "cell_type": "markdown",
   "metadata": {},
   "source": [
    "### Regex project\n",
    "\n",
    "Use python to read the file regex_test.txt and print the last name on each line using regular expressions and groups (return None for names with no first and last name, or names that aren't properly capitalized)\n",
    "##### Hint: use with open() and readlines()"
   ]
  },
  {
   "cell_type": "code",
   "execution_count": null,
   "metadata": {},
   "outputs": [],
   "source": [
    "\"\"\"\n",
    "Expected Output\n",
    "Abraham Lincoln\n",
    "Andrew P Garfield\n",
    "Connor Milliken\n",
    "Jordan Alexander Williams\n",
    "None\n",
    "None\n",
    "\"\"\""
   ]
  },
  {
   "cell_type": "code",
   "execution_count": 175,
   "metadata": {},
   "outputs": [
    {
     "name": "stdout",
     "output_type": "stream",
     "text": [
      "['Abraham Lincoln\\n', 'Andrew P Garfield\\n', 'Connor Milliken\\n', 'Jordan Alexander Williams\\n', 'Madonna\\n', 'programming is cool\\n']\n",
      "\n",
      "\n",
      "\n",
      "\n",
      "Abraham Lincoln\n",
      "\n",
      "Andrew P Garfield\n",
      "\n",
      "Connor Milliken\n",
      "\n",
      "Jordan Alexander Williams\n",
      "\n",
      "None\n",
      "None\n"
     ]
    }
   ],
   "source": [
    "with open(\"regex_test.txt\") as f:\n",
    "    data = f.readlines()\n",
    "    print(data)\n",
    "    \n",
    "print(\"\\n\")\n",
    "    \n",
    "president_pattern = re.compile(\"[A-Z][a-z]+ [A-Z].\")\n",
    "# found_president = president_pattern.findall(data)\n",
    "# print(found_president)\n",
    "\n",
    "print(\"\\n\")\n",
    "                               \n",
    "for names in data:\n",
    "    if president_pattern.match(names):\n",
    "        print(names)\n",
    "    else:\n",
    "        print(None)"
   ]
  },
  {
   "cell_type": "code",
   "execution_count": null,
   "metadata": {},
   "outputs": [],
   "source": []
  }
 ],
 "metadata": {
  "kernelspec": {
   "display_name": "Python 3 (ipykernel)",
   "language": "python",
   "name": "python3"
  },
  "language_info": {
   "codemirror_mode": {
    "name": "ipython",
    "version": 3
   },
   "file_extension": ".py",
   "mimetype": "text/x-python",
   "name": "python",
   "nbconvert_exporter": "python",
   "pygments_lexer": "ipython3",
   "version": "3.11.5"
  }
 },
 "nbformat": 4,
 "nbformat_minor": 2
}
